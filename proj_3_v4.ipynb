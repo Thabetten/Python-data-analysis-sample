{
 "cells": [
  {
   "cell_type": "code",
   "execution_count": 1,
   "metadata": {},
   "outputs": [],
   "source": [
    "import pandas as pd\n",
    "import numpy as np\n",
    "import scipy as sc\n",
    "import sys\n",
    "import time as tm\n",
    "import sklearn as sl\n",
    "import matplotlib as mt\n",
    "import matplotlib.pyplot as plt\n",
    "from scipy import stats\n",
    "from IPython.display import display\n",
    "\n",
    "#Here the necessary data is imported from csv format files and converted to data frames.\n",
    "#Export quality and Export diversity data are sourced from the IMF \n",
    "#Population data is sourced from the world bank\n",
    "#The desire of this project is to see if there is any direct linear correlation between the research scientists per capita in and the export diversity and average export quality.\n",
    "#India and Canada are choosen as they represent a developing and developed country.\n",
    "\n",
    "years = np.arange(1964, 2015, 1)\n",
    "\n",
    "exdiv = pd.read_csv('ED_timeSeries.csv', dtype = object)\n",
    "Ind_pop = pd.read_csv('API_IND_DS2_en_csv_v2_10515238.csv', header = 2, dtype = object)\n",
    "expqual = pd.read_csv('EQ_timeseries_1.csv', header = 0, dtype = {'Country Name':object, 'Country Code':object, 'Indicator Name':object, 'Indicator Code':object, 'Product Name':object, 'Product Code':object, 'Attribute':object, '1963':np.float64, '1964':np.float64, '1965':np.float64, '1966':np.float64, '1967':np.float64, '1968':np.float64, '1969':np.float64, '1970':np.float64, '1971':np.float64, '1972':np.float64, '1973':np.float64, '1974':np.float64, '1975':np.float64, '1976':np.float64, '1977':np.float64, '1978':np.float64, '1979':np.float64, '1980':np.float64, '1981':np.float64, '1982':np.float64, '1983':np.float64, '1984':np.float64, '1985':np.float64, '1986':np.float64, '1987':np.float64, '1988':np.float64, '1989':np.float64, '1990':np.float64, '1991':np.float64, '1992':np.float64, '1993':np.float64, '1994':np.float64, '1995':np.float64, '1996':np.float64, '1997':np.float64, '1998':np.float64, '1999':np.float64, '2000':np.float64, '2001':np.float64, '2002':np.float64, '2003':np.float64, '2004':np.float64, '2005':np.float64, '2006':np.float64, '2007':np.float64, '2008':np.float64, '2009':np.float64, '2010':np.float64, '2011':np.float64, '2012':np.float64, '2013':np.float64, '2014':np.float64})\n",
    "can_pop = pd.read_csv(\"API_CAN_DS2_en_csv_v2_10516745.csv\", header = 2, dtype = object)\n",
    "\n",
    "\n",
    "\n",
    "\n"
   ]
  },
  {
   "cell_type": "code",
   "execution_count": 2,
   "metadata": {},
   "outputs": [],
   "source": [
    "#The desired data is extracted from the larger data frames \n",
    "\n",
    "#eq_ar is mean export quality in different catagories of export div_ar is export diversity measured by the Theil index.\n",
    "#sci_ar indicates scientists per million and pop_ar indicates total population\n",
    "#ind indicates the country india while can indicates the country Canada.\n",
    "can_eq_ar = expqual.loc[(expqual['Country Name'] == \"Canada\") & (expqual['Indicator Code'] ==\"qual_Mmean\"), '1963':'2014']\n",
    "can_div_ar = exdiv.loc[(exdiv['Country Name'] == \"Canada\") & (exdiv['Indicator Code'] ==\"total_theil\"), '1963':'2014']\n",
    "can_eq_tr = exdiv.loc[exdiv['Indicator Code'] == \"qual_Mmean\", '1980':'2008']\n",
    "can_pop_ar = can_pop.loc[can_pop['Indicator Code'] == 'SP.POP.TOTL', '1963':'2014']\n",
    "can_sci_ar = can_pop.loc[can_pop['Indicator Code'] == 'SP.POP.SCIE.RD.P6', '1963':'2014']\n",
    "can_sci_pub_budg_ar = can_pop.loc[can_pop['Indicator Code'] == 'GB.XPD.RSDV.GD.ZS', '1963':'2014']\n",
    "can_gdp_growth = can_pop.loc[can_pop['Indicator Code'] == 'NY.GDP.MKTP.KD.ZG', '1963':'2014']\n",
    "can_med_pbudg = can_pop.loc[can_pop['Indicator Code'] == 'SH.XPD.CHEX.GD.ZS', '1963':'2014']\n",
    "can_gdp_per_unit_energy = can_pop.loc[can_pop['Indicator Code'] == 'EG.GDP.PUSE.KO.PP', '1963':'2014']\n",
    "\n",
    "\n",
    "ind_pop_ar = Ind_pop.loc[Ind_pop['Indicator Code'] == 'SP.POP.TOTL', '1963':'2014']\n",
    "ind_sci_ar = Ind_pop.loc[Ind_pop['Indicator Code'] == 'SP.POP.SCIE.RD.P6', '1963':'2014']\n",
    "ind_ed_budg = Ind_pop.loc[Ind_pop['Indicator Code'] == 'SE.XPD.CTOT.ZS', '1963':'2014']\n",
    "ind_eq_ar = expqual.loc[(expqual['Country Name'] == \"India\") & (expqual['Indicator Code'] ==\"qual_Mmean\"), '1963':'2014']\n",
    "ind_sci_pub_budg_ar = Ind_pop.loc[Ind_pop['Indicator Code'] == 'GB.XPD.RSDV.GD.ZS', '1963':'2014']\n",
    "ind_gdp_growth = Ind_pop.loc[Ind_pop['Indicator Code'] == 'NY.GDP.MKTP.KD.ZG', '1963':'2014']"
   ]
  },
  {
   "cell_type": "code",
   "execution_count": 3,
   "metadata": {},
   "outputs": [
    {
     "name": "stdout",
     "output_type": "stream",
     "text": [
      "(52,)\n"
     ]
    }
   ],
   "source": [
    "#Take an average of export quality across all catagories and then transform it to include the year as a column not the index\n",
    "can_eq_mean_ar = can_eq_ar.mean()\n",
    "print(can_eq_mean_ar.shape)\n",
    "can_eq_mean_df = pd.DataFrame(data = can_eq_mean_ar)\n",
    "can_eq_mean_df.reset_index(level = 0, inplace = True)\n",
    "can_eq_mean_df.columns = ['year', 'export quality']\n",
    "#print(can_eq_mean_df.shape, list(can_eq_mean_df), can_eq_mean_df)\n",
    "#print(can_eq_mean_df['export quality'])\n"
   ]
  },
  {
   "cell_type": "code",
   "execution_count": 8,
   "metadata": {},
   "outputs": [
    {
     "name": "stdout",
     "output_type": "stream",
     "text": [
      "    year  scientists  export quality  export diversity\n",
      "33  1996    0.003055        0.930952          1.905467\n",
      "34  1997    0.003116        0.932860          1.893744\n",
      "35  1998    0.003155        0.927083          1.894248\n",
      "36  1999    0.003239        0.923890          1.995210\n",
      "37  2000    0.003511        0.921045          2.043467\n",
      "38  2001    0.003691        0.924902          2.035564\n",
      "39  2002    0.003702        0.922362          2.035300\n",
      "40  2003    0.003896        0.918684          2.062201\n",
      "41  2004    0.004081        0.919000          2.032423\n",
      "42  2005    0.004234        0.921167          2.058040\n",
      "43  2006    0.004309        0.919756          2.034150\n",
      "44  2007    0.004583        0.918239          2.016205\n",
      "45  2008    0.004706        0.915289          2.096381\n",
      "46  2009    0.004446        0.916306          1.976951\n",
      "47  2010    0.004643        0.915274          2.169204\n",
      "48  2011    0.004780        0.920132          2.216772\n",
      "49  2012    0.004630        0.920868          2.280877\n",
      "50  2013    0.004628        0.918444          2.270921\n",
      "51  2014    0.004552        0.916241          2.315573\n"
     ]
    }
   ],
   "source": [
    "#Here the data is merged into a single table for Canada. NA values are dropped as the there is no issue of colinearity developing.\n",
    "\n",
    "can_sci_trans = can_sci_ar.T\n",
    "can_div_trans = can_div_ar.T\n",
    "#print(can_sci_pub_budg_trans)\n",
    "\n",
    "can_sci_trans.reset_index(level = 0, inplace = True)\n",
    "can_div_trans.reset_index(level = 0, inplace = True)\n",
    "can_sci_trans.columns = ['year', 'scientists']\n",
    "can_div_trans.columns = ['year', 'export diversity']\n",
    "\n",
    "\n",
    "#print(can_div_trans['year'])\n",
    "\n",
    "\n",
    "#print(type(can_eq_mean_ar))\n",
    "can_sci_trans['scientists'] = pd.to_numeric(can_sci_trans['scientists'])\n",
    "can_sci_trans['year'] = pd.to_numeric(can_sci_trans['year'])\n",
    "#print(can_sci_trans['year'])\n",
    "can_sci_trans['scientists'] /= 1000000\n",
    "#print(can_sci_trans)\n",
    "#print(type(can_sci_trans['scientists']))\n",
    "can_sci_trans = can_sci_trans.dropna()\n",
    "#print(can_sci_trans)\n",
    "can_eq_mean_df['year'] = pd.to_numeric(can_eq_mean_df['year'])\n",
    "#print(can_eq_mean_df.shape, list(can_eq_mean_df), can_eq_mean_df['year'])\n",
    "#print(type(can_eq_mean_df))\n",
    "can_div_trans['year'] = pd.to_numeric(can_div_trans['year'])\n",
    "\n",
    "\n",
    "\n",
    "can_sci_eq = can_sci_trans.join(can_eq_mean_df.set_index('year'), on = 'year', how = 'inner')\n",
    "#print(can_sci_eq)\n",
    "can_sci_eq_div = can_sci_eq.join(can_div_trans.set_index('year'), on = 'year', how = 'inner')\n",
    "can_sci_eq_div['export diversity'] = pd.to_numeric(can_sci_eq_div['export diversity']) \n",
    "\n",
    "#print(can_sci_pub_budg_trans['public science budget'])\n",
    "#can_sci_eq_div_budg = can_sci_eq_div.join(can_sci_pub_budg_trans.set_index('year'), on = 'year', how = 'inner')\n",
    " \n",
    "print(can_sci_eq_div)\n",
    "\n",
    "\n",
    "\n"
   ]
  },
  {
   "cell_type": "code",
   "execution_count": 9,
   "metadata": {},
   "outputs": [
    {
     "name": "stdout",
     "output_type": "stream",
     "text": [
      "    year  public health expenditure  public research budget  gdp growth\n",
      "37  2000                   0.082757                0.018647    0.051827\n",
      "38  2001                   0.086553                0.020283    0.017708\n",
      "39  2002                   0.088882                0.019787    0.030100\n",
      "40  2003                   0.090428                0.019748    0.018023\n",
      "41  2004                   0.090972                0.020042    0.030860\n",
      "42  2005                   0.090644                0.019776    0.032014\n",
      "43  2006                   0.092071                0.019487    0.026234\n",
      "44  2007                   0.092984                0.019086    0.020627\n",
      "45  2008                   0.094651                0.018604    0.010004\n",
      "46  2009                   0.105741                0.019223   -0.029496\n",
      "47  2010                   0.105622                0.018296    0.030835\n",
      "48  2011                   0.102197                0.017913    0.031412\n",
      "49  2012                   0.102229                0.017766    0.017455\n",
      "50  2013                   0.101153                0.017098    0.024750\n",
      "51  2014                   0.099870                0.017244    0.028557\n"
     ]
    }
   ],
   "source": [
    "can_sci_pub_budg_trans = can_sci_pub_budg_ar.T\n",
    "#print(can_sci_pub_budg_trans)\n",
    "can_sci_pub_budg = can_sci_pub_budg_trans.reset_index(level = 0, inplace = True)\n",
    "can_sci_pub_budg_trans.columns = ['year', 'public research budget']\n",
    "can_sci_pub_budg_trans['public research budget'] = pd.to_numeric(can_sci_pub_budg_trans['public research budget'])\n",
    "can_sci_pub_budg_trans['year'] = pd.to_numeric(can_sci_pub_budg_trans['year'])\n",
    "#print(can_sci_pub_budg_trans.shape)\n",
    "\n",
    "can_med_pbudg_trans = can_med_pbudg.T\n",
    "#print(can_ed_budg_trans)\n",
    "can_med_pbudg_trans.reset_index(level = 0, inplace = True)\n",
    "#print(can_ed_budg_trans)\n",
    "can_med_pbudg_trans.columns = ['year', 'public health expenditure']\n",
    "can_med_pbudg_trans['public health expenditure'] = pd.to_numeric(can_med_pbudg_trans['public health expenditure'])\n",
    "can_med_pbudg_trans['year'] = pd.to_numeric(can_med_pbudg_trans['year'])\n",
    "#print(can_sci_pub_budg_trans.shape)\n",
    "\n",
    "can_gdp_growth_trans = can_gdp_growth.T\n",
    "can_gdp_growth_trans.reset_index(level = 0, inplace = True)\n",
    "can_gdp_growth_trans.columns = ['year', 'gdp growth']\n",
    "can_gdp_growth_trans['gdp growth'] = pd.to_numeric(can_gdp_growth_trans['gdp growth'])\n",
    "can_gdp_growth_trans['year'] = pd.to_numeric(can_gdp_growth_trans['year'])\n",
    "#print(can_gdp_growth_trans)\n",
    "\n",
    "can_sci_med_pbudg = can_med_pbudg_trans.join(can_sci_pub_budg_trans.set_index('year'), on = 'year', how = 'inner')\n",
    "#print(can_sci_pbudg)\n",
    "can_sci_med_pbudg_gdpg = can_sci_med_pbudg.join(can_gdp_growth_trans.set_index('year'), on = 'year', how = 'inner')\n",
    "can_sci_med_pbudg_gdpg['public research budget'] /= 100\n",
    "can_sci_med_pbudg_gdpg['public health expenditure'] /= 100\n",
    "can_sci_med_pbudg_gdpg['gdp growth'] /= 100\n",
    "\n",
    "can_sci_med_pbudg_gdpg = can_sci_med_pbudg_gdpg.dropna()\n",
    "print(can_sci_med_pbudg_gdpg)\n",
    "#can_sci_ed_pbudg_gdpg_con = can_sci_ed_pbudg_gdpg.loc[(can_sci_ed_pbudg_gdpg['year'] >= 1998) & (can_sci_ed_pbudg_gdpg['year'] <= 2011)]\n",
    "#print(can_sci_ed_pbudg_gdpg_con)"
   ]
  },
  {
   "cell_type": "code",
   "execution_count": 7,
   "metadata": {},
   "outputs": [
    {
     "name": "stdout",
     "output_type": "stream",
     "text": [
      "    year  ind scientists  ind public science budget  ind gdp growth\n",
      "33  1996        0.000153                   0.006477        0.075495\n",
      "35  1998        0.000116                   0.007133        0.061844\n",
      "37  2000        0.000110                   0.007672        0.038410\n",
      "42  2005        0.000135                   0.008358        0.092848\n",
      "47  2010        0.000157                   0.008221        0.102600\n"
     ]
    }
   ],
   "source": [
    "ind_sci_trans = ind_sci_ar.T\n",
    "ind_sci_trans.reset_index(level = 0, inplace = True)\n",
    "ind_sci_trans.columns = ['year', 'ind scientists']\n",
    "ind_sci_trans['year'] = pd.to_numeric(ind_sci_trans['year'])\n",
    "ind_sci_trans['ind scientists'] = pd.to_numeric(ind_sci_trans['ind scientists'])\n",
    "#print(ind_sci_trans)\n",
    "ind_pub_budg_trans = ind_sci_pub_budg_ar.T\n",
    "#print(ind_sci_pub_budg_trans)\n",
    "ind_pub_budg_trans.reset_index(level = 0, inplace = True)\n",
    "#ind_sci_pub_budg_trans.drop('index')\n",
    "\n",
    "ind_pub_budg_trans.columns = ['year', 'ind public science budget']\n",
    "#print(ind_pub_budg_trans)\n",
    "ind_pub_budg_trans['ind public science budget'] = pd.to_numeric(ind_pub_budg_trans['ind public science budget'])\n",
    "ind_pub_budg_trans['year'] = pd.to_numeric(ind_pub_budg_trans['year'])\n",
    "#print(can_sci_pub_budg_trans.shape)\n",
    "\n",
    "ind_gdp_growth_trans = ind_gdp_growth.T\n",
    "ind_gdp_growth_trans.reset_index(level = 0, inplace = True)\n",
    "ind_gdp_growth_trans.columns = ['year', 'ind gdp growth']\n",
    "ind_gdp_growth_trans['ind gdp growth'] = pd.to_numeric(ind_gdp_growth_trans['ind gdp growth'])\n",
    "ind_gdp_growth_trans['year'] = pd.to_numeric(ind_gdp_growth_trans['year'])\n",
    "#print(can_gdp_growth_trans)\n",
    "\n",
    "ind_sci_pbudg = ind_sci_trans.join(ind_pub_budg_trans.set_index('year'), on = 'year', how = 'inner')\n",
    "#print(can_sci_pbudg)\n",
    "ind_sci_pbudg_gdpg = ind_sci_pbudg.join(ind_gdp_growth_trans.set_index('year'), on = 'year', how = 'inner')\n",
    "ind_sci_pbudg_gdpg = ind_sci_pbudg_gdpg.dropna()\n",
    "ind_sci_pbudg_gdpg['ind scientists'] /= 1000000\n",
    "ind_sci_pbudg_gdpg['ind public science budget'] /= 100\n",
    "ind_sci_pbudg_gdpg['ind gdp growth'] /= 100\n",
    "print(ind_sci_pbudg_gdpg)"
   ]
  },
  {
   "cell_type": "code",
   "execution_count": 6,
   "metadata": {},
   "outputs": [
    {
     "name": "stdout",
     "output_type": "stream",
     "text": [
      "Canada scientists v export quality -6.857312869321385 0.9489589445646229 -0.8465779056110048 4.8773886976410016e-06 1.045659639324713\n"
     ]
    }
   ],
   "source": [
    "#check for linear relation between per capita researchers and export quality.\n",
    "slope, intercept, r_value, p_value, std_err = stats.linregress(can_sci_eq_div.iloc[:,1], can_sci_eq_div.iloc[:,2])\n",
    "print(\"Canada scientists v export quality\", slope, intercept, r_value, p_value, std_err)"
   ]
  },
  {
   "cell_type": "code",
   "execution_count": 7,
   "metadata": {},
   "outputs": [
    {
     "name": "stdout",
     "output_type": "stream",
     "text": [
      "Canada scientists v total theil index 158.00558012031928 1.430152183202968 0.7583983881517031 0.00016775022368275964 32.93510974562792\n"
     ]
    }
   ],
   "source": [
    "#The same is done for per capita scientists and export diversity. \n",
    "slope, intercept, r_value, p_value, std_err = stats.linregress(can_sci_eq_div.iloc[:,1], can_sci_eq_div.iloc[:,3])\n",
    "print(\"Canada scientists v total theil index\", slope, intercept, r_value, p_value, std_err)"
   ]
  },
  {
   "cell_type": "code",
   "execution_count": null,
   "metadata": {},
   "outputs": [],
   "source": [
    "#In both cases a good r_values but poor correlation coefficient is found suggesting that neither export diversity nor\n",
    "#average export quality directly depend on linearly on the number of scientists."
   ]
  },
  {
   "cell_type": "code",
   "execution_count": 10,
   "metadata": {},
   "outputs": [
    {
     "name": "stdout",
     "output_type": "stream",
     "text": [
      "0.7169248616757464 [ 4.18448482e-05 -7.22414260e+00] 0.8665458403973401\n"
     ]
    }
   ],
   "source": [
    "#Here we will use sci kit learn to test the same hypothesis and possibly another kind of regression\n",
    "from sklearn import datasets, linear_model\n",
    "from sklearn.metrics import mean_squared_error, r2_score\n",
    "\n",
    "#print(can_pop_ar.T.shape, np.reshape(np.asarray(can_eq_mean_ar), (52, 1)).shape)\n",
    "#d = can_sci_eq_div.iloc[:,0]\n",
    "di = np.linspace(can_sci_eq_div['scientists'].min(), can_sci_eq_div['scientists'].max(), 19).reshape(-1, 1)\n",
    "\n",
    "#print(di)\n",
    "\n",
    "#sci_cans = pd.series(can_sci_eq_div.iloc[:,1])\n",
    "#eq_cans = can_sci_eq_div.iloc[:,2]\n",
    "\n",
    "#sci_cans_2 = sci_cans.reshape(1,-1)\n",
    "#eq_cans_2 = eq_cans.reshape(1,-1)\n",
    "\n",
    "regr = linear_model.LinearRegression()\n",
    "can_eq_trunc  = can_eq_mean_ar.tail(len(can_sci_trans))\n",
    "#print(can_div_t_trunc)\n",
    "#print(len(can_sci_trans), can_eq_trunc.shape, can_eq_trunc)\n",
    "regr.fit(can_sci_trans, can_eq_trunc)\n",
    "#regr.fit(can_sci_eq_div.iloc[:,1], can_sci_eq_div.iloc[:,2])\n",
    "\n",
    "#eq_pred = regr.predict(np.asarray(can__ar)[0].reshape(-1,1))\n",
    "\n",
    "\n",
    "\n",
    "#print(regr.score(can_sci_eq_div.iloc[:,1], can_sci_eq_div.iloc[:,2]), regr.coef_, regr.intercept_)\n",
    "print(regr.score(can_sci_trans, can_eq_trunc), regr.coef_, regr.intercept_)\n"
   ]
  },
  {
   "cell_type": "code",
   "execution_count": 11,
   "metadata": {},
   "outputs": [
    {
     "name": "stdout",
     "output_type": "stream",
     "text": [
      "19 19\n",
      "0.8141559404430014 [ 3.46404352e-02 -1.45667200e+02] -66.7939164770472\n"
     ]
    }
   ],
   "source": [
    "#Here we will use sci kit learn to test the same hypothesis and possibly another kind of regression\n",
    "from sklearn import datasets, linear_model\n",
    "from sklearn.metrics import mean_squared_error, r2_score\n",
    "\n",
    "#print(can_pop_ar.T.shape, np.reshape(np.asarray(can_eq_mean_ar), (52, 1)).shape)\n",
    "di = np.linspace(can_sci_eq_div['scientists'].min(), can_sci_eq_div['scientists'].max(), 19).reshape(-1, 1)\n",
    "\n",
    "#print(di)\n",
    "\n",
    "\n",
    "#print(can_sci_trans.shape, can_div_trans.tail(19))\n",
    "\n",
    "#sci_dat = np.reshape(can_sci_eq_div.iloc[:,1], (19,1))\n",
    "\n",
    "#print(can_sci_eq_div.iloc[:,1].shape)\n",
    "\n",
    "regr = linear_model.LinearRegression()\n",
    "can_div_t_trunc = can_div_trans.tail(len(can_sci_trans))\n",
    "can_eq_trunc  = can_eq_mean_ar.tail(len(can_sci_trans))\n",
    "#print(can_div_t_trunc)\n",
    "print(len(can_sci_trans), len(can_div_t_trunc['export diversity']))\n",
    "regr.fit(can_sci_trans, can_div_t_trunc['export diversity'])\n",
    "\n",
    "\n",
    "\n",
    "print(regr.score(can_sci_trans, can_div_t_trunc['export diversity']), regr.coef_, regr.intercept_)"
   ]
  },
  {
   "cell_type": "code",
   "execution_count": 11,
   "metadata": {},
   "outputs": [
    {
     "name": "stdout",
     "output_type": "stream",
     "text": [
      "0.50090226220888 [ -2.19402301 -11.58426643] 0.44997181166790473\n"
     ]
    }
   ],
   "source": [
    "from sklearn import datasets, linear_model\n",
    "from sklearn.metrics import mean_squared_error, r2_score\n",
    "\n",
    "\n",
    "\n",
    "regr = linear_model.LinearRegression()\n",
    "\n",
    "regr.fit(can_sci_med_pbudg_gdpg[['public health expenditure', 'public research budget']], can_sci_med_pbudg_gdpg['gdp growth'])\n",
    "\n",
    "\n",
    "\n",
    "\n",
    "print(regr.score(can_sci_med_pbudg_gdpg[['public health expenditure', 'public research budget']], can_sci_med_pbudg_gdpg['gdp growth']), regr.coef_, regr.intercept_)\n"
   ]
  },
  {
   "cell_type": "code",
   "execution_count": 20,
   "metadata": {},
   "outputs": [
    {
     "data": {
      "image/png": "[encoded data removed]",
      "text/plain": [
       "<Figure size 432x288 with 2 Axes>"
      ]
     },
     "metadata": {
      "needs_background": "light"
     },
     "output_type": "display_data"
    }
   ],
   "source": [
    "#Plot scientists per capita and mean export quality against time. Note the Y axes are different scales. \n",
    "import matplotlib.pyplot as plt\n",
    "x = range(1995, 2015)\n",
    "y1 = np.linspace(0, .004, 40)\n",
    "y2 = np.linspace(0.00, 4.0, 200)\n",
    "fig, ax1 = plt.subplots() \n",
    "\n",
    "ax2 = ax1.twinx()\n",
    "ax1.plot(can_sci_eq_div.iloc[:,0], can_sci_eq_div.iloc[:,1], 'g-', label= 'scientists')\n",
    "ax2.plot(can_sci_eq_div.iloc[:,0], can_sci_eq_div.iloc[:,2], 'b-')\n",
    "\n",
    "ax1.set_xlabel('Year')\n",
    "ax1.set_ylabel('Scientists per Capita')\n",
    "ax2.set_ylabel('Export Quality')\n",
    "\n",
    "plt.show()"
   ]
  },
  {
   "cell_type": "code",
   "execution_count": 18,
   "metadata": {},
   "outputs": [
    {
     "data": {
      "image/png": "[encoded data removed]",
      "text/plain": [
       "<Figure size 432x288 with 2 Axes>"
      ]
     },
     "metadata": {
      "needs_background": "light"
     },
     "output_type": "display_data"
    }
   ],
   "source": [
    "#Here the scientists per capita and Total Theil index are plotted against time. Again with different scale Y axes.\n",
    "import matplotlib.pyplot as plt\n",
    "x = range(1995, 2015)\n",
    "y1 = np.linspace(0, .004, 40)\n",
    "y2 = np.linspace(0.00, 4.0, 200)\n",
    "fig, ax1 = plt.subplots() \n",
    "\n",
    "ax2 = ax1.twinx()\n",
    "\n",
    "\n",
    "ax1.plot(can_sci_eq_div.iloc[:,0], can_sci_eq_div.iloc[:,1], 'g-')\n",
    "ax2.plot(can_sci_eq_div.iloc[:,0], can_sci_eq_div.iloc[:,3], 'r-')\n",
    "\n",
    "ax1.set_xlabel('Year')\n",
    "ax1.set_ylabel('Scientists per Capita')\n",
    "ax2.set_ylabel('Export Diversity')\n",
    "\n",
    "\n",
    "plt.show()"
   ]
  },
  {
   "cell_type": "raw",
   "metadata": {},
   "source": [
    " "
   ]
  },
  {
   "cell_type": "code",
   "execution_count": 15,
   "metadata": {},
   "outputs": [
    {
     "data": {
      "image/png": "[encoded data removed]",
      "text/plain": [
       "<Figure size 1440x1152 with 1 Axes>"
      ]
     },
     "metadata": {
      "needs_background": "light"
     },
     "output_type": "display_data"
    }
   ],
   "source": [
    "plt.figure(figsize = (20, 16))\n",
    "plt.scatter(np.asarray(can_sci_inf_pbudg_gdpg.iloc[:,0]), can_sci_inf_pbudg_gdpg.iloc[:,1],  color='black')\n",
    "plt.scatter(np.asarray(can_sci_inf_pbudg_gdpg.iloc[:,0]), can_sci_inf_pbudg_gdpg.iloc[:,2],  color='red')\n",
    "plt.scatter(np.asarray(can_sci_inf_pbudg_gdpg.iloc[:,0]), can_sci_inf_pbudg_gdpg.iloc[:,3],  color='blue')\n",
    "\n",
    "\n",
    "plt.show()"
   ]
  },
  {
   "cell_type": "code",
   "execution_count": null,
   "metadata": {},
   "outputs": [],
   "source": []
  }
 ],
 "metadata": {
  "kernelspec": {
   "display_name": "Python 3",
   "language": "python",
   "name": "python3"
  },
  "language_info": {
   "codemirror_mode": {
    "name": "ipython",
    "version": 3
   },
   "file_extension": ".py",
   "mimetype": "text/x-python",
   "name": "python",
   "nbconvert_exporter": "python",
   "pygments_lexer": "ipython3",
   "version": "3.7.1"
  }
 },
 "nbformat": 4,
 "nbformat_minor": 2
}
